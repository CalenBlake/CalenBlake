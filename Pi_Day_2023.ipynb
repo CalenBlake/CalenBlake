{
  "nbformat": 4,
  "nbformat_minor": 0,
  "metadata": {
    "colab": {
      "provenance": [],
      "authorship_tag": "ABX9TyN2t8ub7wzV3cNlTvXxZTVb",
      "include_colab_link": true
    },
    "kernelspec": {
      "name": "python3",
      "display_name": "Python 3"
    },
    "language_info": {
      "name": "python"
    }
  },
  "cells": [
    {
      "cell_type": "markdown",
      "metadata": {
        "id": "view-in-github",
        "colab_type": "text"
      },
      "source": [
        "<a href=\"https://colab.research.google.com/github/CalenBlake/CalenBlake/blob/main/Pi_Day_2023.ipynb\" target=\"_parent\"><img src=\"https://colab.research.google.com/assets/colab-badge.svg\" alt=\"Open In Colab\"/></a>"
      ]
    },
    {
      "cell_type": "markdown",
      "source": [
        ">> ***Happy π-Day!***\n",
        "\n",
        "\n",
        "\n"
      ],
      "metadata": {
        "id": "zx_ijpePqsDZ"
      }
    },
    {
      "cell_type": "code",
      "execution_count": 5,
      "metadata": {
        "id": "YzA336nvnQja"
      },
      "outputs": [],
      "source": [
        "# ----- Import necessary packages -----\n",
        "import matplotlib.pyplot as plt\n",
        "import matplotlib.patches as patches\n",
        "import numpy as np"
      ]
    },
    {
      "cell_type": "code",
      "source": [
        "# ----- Plot boundary regions -----\n",
        "\n",
        "# Create figure and axes\n",
        "fig, ax = plt.subplots()\n",
        "\n",
        "# Plot square\n",
        "square = patches.Rectangle((0, 0), 1, 1, linewidth=1, edgecolor='r', facecolor='none')\n",
        "ax.add_patch(square)\n",
        "\n",
        "# Plot circle\n",
        "circle = patches.Circle((0.5, 0.5), radius=0.5, edgecolor='b', facecolor='none')\n",
        "ax.add_patch(circle)\n",
        "\n",
        "# Plot centre of regions\n",
        "plt.plot(0.5, 0.5, 'gx')\n",
        "\n",
        "# Adjust figure axes\n",
        "ax.set(xlim=(-1, 2), ylim=(-0.5, 1.5))\n",
        "\n",
        "plt.show()"
      ],
      "metadata": {
        "colab": {
          "base_uri": "https://localhost:8080/",
          "height": 269
        },
        "id": "6WLFUaBmqgGC",
        "outputId": "9b66d3b1-cbf9-4fa1-c4fe-79ec7afb599c"
      },
      "execution_count": 29,
      "outputs": [
        {
          "output_type": "display_data",
          "data": {
            "text/plain": [
              "<Figure size 432x288 with 1 Axes>"
            ],
            "image/png": "[encoded data removed]"
          },
          "metadata": {
            "needs_background": "light"
          }
        }
      ]
    },
    {
      "cell_type": "code",
      "source": [
        "# ----- Test random number generation -----\n",
        "\n",
        "for n in range(2):\n",
        "  x = np.random.uniform(low=0.0, high=1.0, size=None)\n",
        "  y = np.random.uniform(low=0.0, high=1.0, size=None)\n",
        "  print(x, y)\n",
        "\n",
        "# NOTE: by the nature of the bounds of the random number generator,\n",
        "# all generated numbers will be within the square.\n",
        "# THUS, only necessary check is for circle boundary!"
      ],
      "metadata": {
        "colab": {
          "base_uri": "https://localhost:8080/"
        },
        "id": "oHE73WpBukGO",
        "outputId": "d8a441c5-5e2d-49f9-fd43-569c7502f908"
      },
      "execution_count": 28,
      "outputs": [
        {
          "output_type": "stream",
          "name": "stdout",
          "text": [
            "0.27896390751070554 0.7327196208669102\n",
            "0.1973342973021308 0.36881044200593094\n"
          ]
        }
      ]
    },
    {
      "cell_type": "code",
      "source": [
        "# ----- Final Ratio Test -----\n",
        "\n",
        "# Create figure and axes\n",
        "fig, ax = plt.subplots()\n",
        "\n",
        "# Plot square\n",
        "square = patches.Rectangle((0, 0), 1, 1, linewidth=1, edgecolor='r', facecolor='none')\n",
        "ax.add_patch(square)\n",
        "\n",
        "# Plot circle\n",
        "circle = patches.Circle((0.5, 0.5), radius=0.5, edgecolor='b', facecolor='none')\n",
        "ax.add_patch(circle)\n",
        "\n",
        "# Initialise area counters\n",
        "A1 = 0\n",
        "A2 = 0\n",
        "# set origin (centre of circle)\n",
        "o = np.array((0.5, 0.5))\n",
        "\n",
        "\n",
        "# generate coords, check area, \n",
        "for n in range(100):\n",
        "  x = np.random.uniform(low=0.0, high=1.0, size=None)\n",
        "  y = np.random.uniform(low=0.0, high=1.0, size=None)\n",
        "  a = np.array((x, y))\n",
        "  # print(a)\n",
        "  if (np.linalg.norm(a - o) <= 0.5):\n",
        "    A2 += 1\n",
        "  A1 += 1\n",
        "  plt.plot(x, y, 'gx')\n",
        "\n",
        "# Adjust figure axes\n",
        "ax.set(xlim=(-1, 2), ylim=(-0.5, 1.5))\n",
        "\n",
        "plt.show()\n",
        "\n",
        "# Print statistics\n",
        "print('points generated: ', A1)\n",
        "print('points within the circle: ', A2)\n",
        "print('ratio: 4 * A2 / A1 = ', 4*A2/A1)"
      ],
      "metadata": {
        "colab": {
          "base_uri": "https://localhost:8080/",
          "height": 321
        },
        "id": "dgFSGeMTwChg",
        "outputId": "50f5ae3e-b615-4535-bbf6-5f5fcf3493d7"
      },
      "execution_count": 60,
      "outputs": [
        {
          "output_type": "display_data",
          "data": {
            "text/plain": [
              "<Figure size 432x288 with 1 Axes>"
            ],
            "image/png": "[encoded data removed]"
          },
          "metadata": {
            "needs_background": "light"
          }
        },
        {
          "output_type": "stream",
          "name": "stdout",
          "text": [
            "points generated:  100\n",
            "points within the circle:  79\n",
            "ratio: 4 * A2 / A1 =  3.16\n"
          ]
        }
      ]
    }
  ]
}